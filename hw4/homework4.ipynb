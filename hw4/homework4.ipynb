{
 "cells": [
  {
   "cell_type": "code",
   "execution_count": 1,
   "metadata": {
    "deletable": false,
    "nbgrader": {
     "checksum": "26c5a416fbe3346a4f31c11e8ce242d8",
     "grade": false,
     "grade_id": "cell-8a6c26fde7f1ca2a",
     "locked": true,
     "schema_version": 1,
     "solution": false
    }
   },
   "outputs": [
    {
     "data": {
      "text/plain": [
       "\u001b[32mimport \u001b[39m\u001b[36m$file.$        \n",
       "\u001b[39m\n",
       "\u001b[32mimport \u001b[39m\u001b[36mhw4stdlib._\u001b[39m"
      ]
     },
     "execution_count": 1,
     "metadata": {},
     "output_type": "execute_result"
    }
   ],
   "source": [
    "import $file.hw4stdlib\n",
    "import hw4stdlib._"
   ]
  },
  {
   "cell_type": "markdown",
   "metadata": {
    "deletable": false,
    "nbgrader": {
     "checksum": "d15236e9214361bd059d1900b1f97535",
     "grade": false,
     "grade_id": "cell-31b079288d90dc51",
     "locked": false,
     "schema_version": 1,
     "solution": false
    }
   },
   "source": [
    "# Homework 4\n",
    "\n",
    "In this assignment we will develop some helpful structures for building the interpreter.Then we will write the first full interpreter for Lettuce. Remember that lettuce is a functional language with let bindings. It is very similiar to a language called ML. Here we want to implement the interpreter for the language from the ground up. We will use most of the existing standard library we have developed while we write this, especially the equality functions and Dictionary data type from earlier in the homework.\n"
   ]
  },
  {
   "cell_type": "markdown",
   "metadata": {
    "deletable": false,
    "editable": false,
    "nbgrader": {
     "checksum": "6041d2f56fe50ff1c25aa0749d72f5c3",
     "grade": false,
     "grade_id": "cell-405b57b28eb4f0f0",
     "locked": true,
     "schema_version": 1,
     "solution": false
    }
   },
   "source": [
    "## Dictionaries\n",
    "\n",
    "We will need to define the datatype $\\texttt{Dictionary}$ before we write the first interpreter for lettuce. We'll begin by giving the definition below:\n",
    "\n",
    "$$\n",
    "\\begin{aligned}\n",
    "\\textbf{Dictionary}\\ A\\ B\\ ::&= \\text{EmptyDict} \\\\\n",
    "&\\mid\\ \\text{Entry}\\ A\\ B\\ (\\textbf{Dictionary}\\ A\\ B)\n",
    "\\end{aligned}\n",
    "$$\n",
    "\n",
    "This will create dictionaries of key-value pairs which will be very useful for implementing contexts in the next homework assignment. The definition of this type in Scala is given below:"
   ]
  },
  {
   "cell_type": "code",
   "execution_count": 2,
   "metadata": {
    "deletable": false,
    "nbgrader": {
     "checksum": "3105b197651d01ef74d17e1090120662",
     "grade": false,
     "grade_id": "cell-c777fe8e435f2d12",
     "locked": false,
     "schema_version": 1,
     "solution": true
    },
    "scrolled": true
   },
   "outputs": [
    {
     "data": {
      "text/plain": [
       "defined \u001b[32mtrait\u001b[39m \u001b[36mDictionary\u001b[39m\n",
       "defined \u001b[32mobject\u001b[39m \u001b[36mEmptyDict\u001b[39m\n",
       "defined \u001b[32mclass\u001b[39m \u001b[36mEntry\u001b[39m"
      ]
     },
     "execution_count": 2,
     "metadata": {},
     "output_type": "execute_result"
    }
   ],
   "source": [
    "sealed trait Dictionary[+A, +B] \n",
    "case object EmptyDict extends Dictionary[Nothing, Nothing]\n",
    "case class Entry[A,B](key: A, value: B, rest: Dictionary[A,B]) extends Dictionary[A,B]"
   ]
  },
  {
   "cell_type": "markdown",
   "metadata": {
    "deletable": false,
    "editable": false,
    "nbgrader": {
     "checksum": "6cfc22cb6202cc8638cddeee5bac3de6",
     "grade": false,
     "grade_id": "cell-ad23f96fb3d4306c",
     "locked": true,
     "schema_version": 1,
     "solution": false
    }
   },
   "source": [
    "For both of the following functions you will need to provide a parameter for an equality-checking function. This is so we can check if keys are equal to eachother"
   ]
  },
  {
   "cell_type": "markdown",
   "metadata": {
    "deletable": false,
    "editable": false,
    "nbgrader": {
     "checksum": "18d825a305a619991239eee3993e3f56",
     "grade": false,
     "grade_id": "cell-66dfe694215bd90c",
     "locked": true,
     "schema_version": 1,
     "solution": false
    }
   },
   "source": [
    "### Membership(In) (5pts)\n",
    "\n",
    "Write a function called `isIn` which returns `True` if the Dictionary contains a given key and `False` if it does not."
   ]
  },
  {
   "cell_type": "code",
   "execution_count": 3,
   "metadata": {
    "deletable": false,
    "nbgrader": {
     "checksum": "f7ca041dbeb6b3db1d8861fd44725757",
     "grade": false,
     "grade_id": "cell-23433950c52a6f5e",
     "locked": false,
     "schema_version": 1,
     "solution": true
    }
   },
   "outputs": [
    {
     "data": {
      "text/plain": [
       "defined \u001b[32mfunction\u001b[39m \u001b[36misIn\u001b[39m"
      ]
     },
     "execution_count": 3,
     "metadata": {},
     "output_type": "execute_result"
    }
   ],
   "source": [
    "def isIn[A,B](eq_func: (A, A) => Bool, dict: Dictionary[A,B], target: A): Bool = dict match {\n",
    "    case EmptyDict => False \n",
    "    case Entry(key, value, rest) => eq_func(key, target) match {\n",
    "        case True => True\n",
    "        case False => isIn(eq_func, rest, target)\n",
    "    }\n",
    "}"
   ]
  },
  {
   "cell_type": "code",
   "execution_count": 4,
   "metadata": {
    "deletable": false,
    "editable": false,
    "nbgrader": {
     "checksum": "57f28f8df8b6b64825de2570416fabf3",
     "grade": true,
     "grade_id": "cell-4972a9f7ef5db900",
     "locked": true,
     "points": 5,
     "schema_version": 1,
     "solution": false
    }
   },
   "outputs": [
    {
     "name": "stdout",
     "output_type": "stream",
     "text": [
      "\n",
      "*** Tests Passed (5 points) ***\n"
     ]
    }
   ],
   "source": [
    "assert(isIn(nat_eq, Entry(five, True, EmptyDict), five) == True)\n",
    "assert(isIn(nat_eq, Entry(eight, True, Entry(five, True, EmptyDict)), five) == True)\n",
    "assert(isIn(nat_eq, Entry(five, True, EmptyDict), six) == False)\n",
    "assert(isIn(nat_eq, EmptyDict, seven) == False)\n",
    "passed(5)"
   ]
  },
  {
   "cell_type": "markdown",
   "metadata": {
    "deletable": false,
    "editable": false,
    "nbgrader": {
     "checksum": "300a1376511bdfd6ec471956d47c9358",
     "grade": false,
     "grade_id": "cell-9d21f17378934765",
     "locked": true,
     "schema_version": 1,
     "solution": false
    }
   },
   "source": [
    "### Lookup (5 pts)\n",
    "\n",
    "Write a function that retrieves a value that corresponds to a key in a dictionary. If the key is not in the map then return Nothing.\n",
    "\n",
    "$$\n",
    "\\texttt{lookup} : (a \\rightarrow a \\rightarrow \\mathbb{B}) \\rightarrow \\texttt{Dict}\\ a\\ b \\rightarrow a \\rightarrow \\texttt{Maybe}\\ b\n",
    "$$"
   ]
  },
  {
   "cell_type": "code",
   "execution_count": 5,
   "metadata": {
    "deletable": false,
    "nbgrader": {
     "checksum": "a0c3e7ac22e3cf46f534d356a4a8c646",
     "grade": false,
     "grade_id": "cell-2753a17919e5caa9",
     "locked": false,
     "schema_version": 1,
     "solution": true
    }
   },
   "outputs": [
    {
     "data": {
      "text/plain": [
       "defined \u001b[32mfunction\u001b[39m \u001b[36mlookup\u001b[39m"
      ]
     },
     "execution_count": 5,
     "metadata": {},
     "output_type": "execute_result"
    }
   ],
   "source": [
    "def lookup[A,B](eq_func: (A, A) => Bool, dict: Dictionary[A,B], target: A): Maybe[B] = dict match {\n",
    "    case EmptyDict => None\n",
    "    case Entry(key, value, rest) => eq_func(key, target) match {\n",
    "        case True => Just(value)\n",
    "        case False => lookup(eq_func, rest, target)\n",
    "    }\n",
    "}"
   ]
  },
  {
   "cell_type": "code",
   "execution_count": 6,
   "metadata": {
    "deletable": false,
    "editable": false,
    "nbgrader": {
     "checksum": "f1319b0615cbfe3437fc395b32dad172",
     "grade": true,
     "grade_id": "cell-efcc8fd55430e3cc",
     "locked": true,
     "points": 5,
     "schema_version": 1,
     "solution": false
    }
   },
   "outputs": [
    {
     "name": "stdout",
     "output_type": "stream",
     "text": [
      "\n",
      "*** Tests Passed (5 points) ***\n"
     ]
    }
   ],
   "source": [
    "assert(lookup(nat_eq, Entry(five, \"ham\", EmptyDict), five) == Just(\"ham\"))\n",
    "assert(lookup(nat_eq, Entry(eight, seven, Entry(five, three, EmptyDict)), five) == Just(three))\n",
    "assert(lookup(nat_eq, Entry(five, True, EmptyDict), six) == None)\n",
    "assert(lookup(nat_eq, EmptyDict, seven) == None)\n",
    "passed(5)"
   ]
  },
  {
   "cell_type": "markdown",
   "metadata": {
    "deletable": false,
    "editable": false,
    "nbgrader": {
     "checksum": "b96e2f974d9347a4583b6bfcebe49d7b",
     "grade": false,
     "grade_id": "cell-0bf168c166e56981",
     "locked": true,
     "schema_version": 1,
     "solution": false
    }
   },
   "source": [
    "### Practice using these functions (5 pts)\n",
    "#### Part A\n",
    "Create the following dictionary as a scala value using this definition:\n",
    "```\n",
    "{\n",
    "    five: True,\n",
    "    six: False,\n",
    "    seven: False\n",
    "}\n",
    "```\n",
    "Place it in a variable named \"`ans_3a`\""
   ]
  },
  {
   "cell_type": "code",
   "execution_count": 7,
   "metadata": {
    "deletable": false,
    "nbgrader": {
     "checksum": "d829775e5535404808bc49ec03e6dcbd",
     "grade": false,
     "grade_id": "cell-d081675d6d53a9cc",
     "locked": false,
     "schema_version": 1,
     "solution": true
    }
   },
   "outputs": [
    {
     "data": {
      "text/plain": [
       "\u001b[36mans_3a\u001b[39m: \u001b[32mEntry\u001b[39m[\u001b[32mSucc\u001b[39m, \u001b[32mProduct\u001b[39m with \u001b[32mBool\u001b[39m with \u001b[32mSerializable\u001b[39m] = \u001b[33mEntry\u001b[39m(\n",
       "  key = \u001b[33mSucc\u001b[39m(pred = \u001b[33mSucc\u001b[39m(pred = \u001b[33mSucc\u001b[39m(pred = \u001b[33mSucc\u001b[39m(pred = \u001b[33mSucc\u001b[39m(pred = Zero))))),\n",
       "  value = True,\n",
       "  rest = \u001b[33mEntry\u001b[39m(\n",
       "    key = \u001b[33mSucc\u001b[39m(\n",
       "      pred = \u001b[33mSucc\u001b[39m(\n",
       "        pred = \u001b[33mSucc\u001b[39m(pred = \u001b[33mSucc\u001b[39m(pred = \u001b[33mSucc\u001b[39m(pred = \u001b[33mSucc\u001b[39m(pred = Zero))))\n",
       "      )\n",
       "    ),\n",
       "    value = False,\n",
       "    rest = \u001b[33mEntry\u001b[39m(\n",
       "      key = \u001b[33mSucc\u001b[39m(\n",
       "        pred = \u001b[33mSucc\u001b[39m(\n",
       "          pred = \u001b[33mSucc\u001b[39m(\n",
       "            pred = \u001b[33mSucc\u001b[39m(pred = \u001b[33mSucc\u001b[39m(pred = \u001b[33mSucc\u001b[39m(pred = \u001b[33mSucc\u001b[39m(pred = Zero))))\n",
       "          )\n",
       "        )\n",
       "      ),\n",
       "      value = False,\n",
       "      rest = EmptyDict\n",
       "    )\n",
       "  )\n",
       ")"
      ]
     },
     "execution_count": 7,
     "metadata": {},
     "output_type": "execute_result"
    }
   ],
   "source": [
    "// Solution should look like `val ans3 = ???`\n",
    "val ans_3a = Entry(five, True, Entry(six, False, Entry(seven, False, EmptyDict)))"
   ]
  },
  {
   "cell_type": "code",
   "execution_count": 8,
   "metadata": {
    "deletable": false,
    "editable": false,
    "nbgrader": {
     "checksum": "c6e502910cbf76810b56a7eda3dd546c",
     "grade": true,
     "grade_id": "cell-14d49877afa79bb3",
     "locked": true,
     "points": 2,
     "schema_version": 1,
     "solution": false
    }
   },
   "outputs": [
    {
     "name": "stdout",
     "output_type": "stream",
     "text": [
      "\n",
      "*** Tests Passed (2 points) ***\n"
     ]
    }
   ],
   "source": [
    "assert(lookup(nat_eq, ans_3a, five) == Just(True))\n",
    "assert(lookup(nat_eq, ans_3a, six) == Just(False))\n",
    "assert(lookup(nat_eq, ans_3a, seven) == Just(False))\n",
    "passed(2)"
   ]
  },
  {
   "cell_type": "markdown",
   "metadata": {
    "deletable": false,
    "editable": false,
    "nbgrader": {
     "checksum": "413a87cde010ce6fa1adc83e4530d89e",
     "grade": false,
     "grade_id": "cell-e2c494340abb6706",
     "locked": true,
     "schema_version": 1,
     "solution": false
    }
   },
   "source": [
    "#### Part B\n",
    "For the following, use the super secret `secret_dict` variable defined below. Use the functions you just defined to complete the following:\n",
    "\n",
    "1. Look up the value mapped by key `Positive(one)` and place it in variable `ans_3b1` \n",
    "2. Look up the value mapped by key `Positive(three)` and place it in variable `ans_3b2`\n",
    "3. Check whether the key `Negative(three)` is in the map and place True or False in variable `ans_3b3`\n",
    "4. Check whether the key `Negative(one)` is in the map and place True or False in variable `ans_3b4`\n",
    "\n",
    "\n",
    "**Note**: For 1 and 2 remember to extract it from the maybe type, set the variable to the string `\"does not exist\"` if you get `None` instead of `Just(x)`."
   ]
  },
  {
   "cell_type": "code",
   "execution_count": 9,
   "metadata": {
    "deletable": false,
    "editable": false,
    "nbgrader": {
     "checksum": "28d7ea94ce35a682bdc252620797949a",
     "grade": false,
     "grade_id": "cell-367a2b37f5710beb",
     "locked": true,
     "schema_version": 1,
     "solution": false
    }
   },
   "outputs": [
    {
     "data": {
      "text/plain": [
       "\u001b[36msecret_dict\u001b[39m: \u001b[32mEntry\u001b[39m[\u001b[32mProduct\u001b[39m with \u001b[32mInteger\u001b[39m with \u001b[32mSerializable\u001b[39m, \u001b[32mString\u001b[39m] = \u001b[33mEntry\u001b[39m(\n",
       "  key = \u001b[33mPositive\u001b[39m(x = \u001b[33mSucc\u001b[39m(pred = \u001b[33mSucc\u001b[39m(pred = \u001b[33mSucc\u001b[39m(pred = Zero)))),\n",
       "  value = \u001b[32m\"abc\"\u001b[39m,\n",
       "  rest = \u001b[33mEntry\u001b[39m(\n",
       "    key = \u001b[33mNegative\u001b[39m(x = \u001b[33mSucc\u001b[39m(pred = Zero)),\n",
       "    value = \u001b[32m\"xyz\"\u001b[39m,\n",
       "    rest = \u001b[33mEntry\u001b[39m(\n",
       "      key = \u001b[33mPositive\u001b[39m(x = \u001b[33mSucc\u001b[39m(pred = Zero)),\n",
       "      value = \u001b[32m\"MIB\"\u001b[39m,\n",
       "      rest = EmptyDict\n",
       "    )\n",
       "  )\n",
       ")"
      ]
     },
     "execution_count": 9,
     "metadata": {},
     "output_type": "execute_result"
    }
   ],
   "source": [
    "val secret_dict = Entry(Positive(three), \"abc\",\n",
    "                        Entry(Negative(one), \"xyz\",\n",
    "                              Entry(Positive(one), \"MIB\", EmptyDict)))"
   ]
  },
  {
   "cell_type": "code",
   "execution_count": 10,
   "metadata": {
    "deletable": false,
    "nbgrader": {
     "checksum": "dab83953838b2c29c3666c8ed44f4399",
     "grade": false,
     "grade_id": "cell-41d83bd054b1372a",
     "locked": false,
     "schema_version": 1,
     "solution": true
    }
   },
   "outputs": [
    {
     "data": {
      "text/plain": [
       "\u001b[36mans_3b1\u001b[39m: \u001b[32mObject\u001b[39m with \u001b[32mSerializable\u001b[39m = \u001b[32m\"MIB\"\u001b[39m\n",
       "\u001b[36mans_3b2\u001b[39m: \u001b[32mObject\u001b[39m with \u001b[32mSerializable\u001b[39m = \u001b[32m\"abc\"\u001b[39m\n",
       "\u001b[36mans_3b3\u001b[39m: \u001b[32mBool\u001b[39m = False\n",
       "\u001b[36mans_3b4\u001b[39m: \u001b[32mBool\u001b[39m = True"
      ]
     },
     "execution_count": 10,
     "metadata": {},
     "output_type": "execute_result"
    }
   ],
   "source": [
    "// lookup(int_eq, secret_dict, Positive(one))\n",
    "val ans_3b1 = lookup(int_eq, secret_dict, Positive(one)) match { \n",
    "    case None => None\n",
    "    case Just(x) => x\n",
    "}\n",
    "val ans_3b2 = lookup(int_eq, secret_dict, Positive(three)) match { \n",
    "    case None => None\n",
    "    case Just(x) => x\n",
    "} \n",
    "\n",
    "val ans_3b3 = isIn(int_eq, secret_dict, Negative(three))\n",
    "val ans_3b4 = isIn(int_eq, secret_dict, Negative(one))"
   ]
  },
  {
   "cell_type": "code",
   "execution_count": 10,
   "metadata": {
    "deletable": false,
    "editable": false,
    "nbgrader": {
     "checksum": "fbbcb5a04433ff1ef3f714e664962557",
     "grade": true,
     "grade_id": "cell-0ffa542d701f8f36",
     "locked": true,
     "points": 3,
     "schema_version": 1,
     "solution": false
    }
   },
   "outputs": [],
   "source": [
    "// Hidden tests (3 pts)"
   ]
  },
  {
   "cell_type": "markdown",
   "metadata": {},
   "source": [
    "# The Lettuce Interpreter"
   ]
  },
  {
   "cell_type": "markdown",
   "metadata": {},
   "source": [
    "\n",
    "\n",
    "## Problem 1 - The Values (5 points)\n",
    "\n",
    "Recall that we define interpreters as functions that take in expressions in the form of abstract syntax and give a value as output. In symbols:\n",
    "\n",
    "$$\n",
    "eval : Expr \\rightarrow Value\n",
    "$$\n",
    "\n",
    "It follows that we will need to create a datatype to represent the values that may be computed by lettuce. Bellow is the grammar that defines lettuce values. Implemenet this as a `sealead trait` in Scala below:\n",
    "\n",
    "$$\n",
    "\\begin{align}\n",
    "\\textbf{Value} ::=&\\ NumVal\\ \\mathbb{Z}\\\\\n",
    "\\mid&\\ BinVal\\ \\mathbb{B}\\\\\n",
    "\\mid&\\ Error\n",
    "\\end{align}\n",
    "$$"
   ]
  },
  {
   "cell_type": "code",
   "execution_count": 11,
   "metadata": {
    "scrolled": true
   },
   "outputs": [
    {
     "data": {
      "text/plain": [
       "defined \u001b[32mtrait\u001b[39m \u001b[36mValue\u001b[39m\n",
       "defined \u001b[32mclass\u001b[39m \u001b[36mNumVal\u001b[39m\n",
       "defined \u001b[32mclass\u001b[39m \u001b[36mBinVal\u001b[39m\n",
       "defined \u001b[32mobject\u001b[39m \u001b[36mError\u001b[39m"
      ]
     },
     "execution_count": 11,
     "metadata": {},
     "output_type": "execute_result"
    }
   ],
   "source": [
    "sealed trait Value\n",
    "case class NumVal(i: Integer) extends Value\n",
    "case class BinVal(b: Bool) extends Value\n",
    "case object Error extends Value"
   ]
  },
  {
   "cell_type": "markdown",
   "metadata": {},
   "source": [
    "If your definition was correct then the values in the cell below should compile."
   ]
  },
  {
   "cell_type": "code",
   "execution_count": 12,
   "metadata": {},
   "outputs": [
    {
     "name": "stdout",
     "output_type": "stream",
     "text": [
      "\n",
      "*** Tests Passed (5 points) ***\n"
     ]
    },
    {
     "data": {
      "text/plain": [
       "\u001b[36mv1\u001b[39m: \u001b[32mNumVal\u001b[39m = \u001b[33mNumVal\u001b[39m(i = \u001b[33mPositive\u001b[39m(x = \u001b[33mSucc\u001b[39m(pred = \u001b[33mSucc\u001b[39m(pred = Zero))))\n",
       "\u001b[36mv2\u001b[39m: \u001b[32mBinVal\u001b[39m = \u001b[33mBinVal\u001b[39m(b = False)\n",
       "\u001b[36mv3\u001b[39m: \u001b[32mError\u001b[39m.type = Error"
      ]
     },
     "execution_count": 12,
     "metadata": {},
     "output_type": "execute_result"
    }
   ],
   "source": [
    "val v1 = NumVal(Positive(Succ(Succ(Zero))))\n",
    "val v2 = BinVal(False)\n",
    "val v3 = Error\n",
    "passed(5)"
   ]
  },
  {
   "cell_type": "markdown",
   "metadata": {},
   "source": [
    "## Problem 2 - The Expressions (10 points)\n",
    "\n",
    "There are many possible expressions in the Lettuce language. We also use an abstract syntax to represent this. Here is the grammar to remind you of all the syntactic elements in Lettuce:\n",
    "\n",
    "$$\\begin{array}{rcll}\n",
    "\\mathbf{Expr} & ::= & Const(\\mathbb{Z}) \\\\\n",
    " & | & Bin(\\mathbb{B}) \\\\\n",
    " & | & Ident(\\mathbf{String}) \\\\\n",
    " & | & Plus(\\mathbf{Expr}, \\mathbf{Expr}) \\\\\n",
    " & | & Minus(\\mathbf{Expr}, \\mathbf{Expr}) \\\\\n",
    " & | & Mult (\\mathbf{Expr}, \\mathbf{Expr}) \\\\\n",
    " & | & Pow (\\mathbf{Expr}, \\mathbf{Expr}) \\\\\n",
    " & | & Neg (\\mathbf{Expr}) \\\\\n",
    " & | & Eq (\\mathbf{Expr}, \\mathbf{Expr}) \\\\\n",
    " & | & And ( \\mathbf{Expr}, \\mathbf{Expr} ) \\\\\n",
    " & | & Or ( \\mathbf{Expr}, \\mathbf{Expr} ) \\\\\n",
    " & | & IfThenElse(\\mathbf{Expr}, \\mathbf{Expr}, \\mathbf{Expr}) \\\\\n",
    " & | & Let( \\mathbf{String}, \\mathbf{Expr}, \\mathbf{Expr}) \\\\\n",
    "\\end{array}$$\n",
    "\n",
    "Now define a `sealed trait` for expressions in Lettuce:"
   ]
  },
  {
   "cell_type": "code",
   "execution_count": 13,
   "metadata": {
    "scrolled": true
   },
   "outputs": [
    {
     "data": {
      "text/plain": [
       "defined \u001b[32mtrait\u001b[39m \u001b[36mExpr\u001b[39m\n",
       "defined \u001b[32mclass\u001b[39m \u001b[36mConst\u001b[39m\n",
       "defined \u001b[32mclass\u001b[39m \u001b[36mBin\u001b[39m\n",
       "defined \u001b[32mclass\u001b[39m \u001b[36mIdent\u001b[39m\n",
       "defined \u001b[32mclass\u001b[39m \u001b[36mPlus\u001b[39m\n",
       "defined \u001b[32mclass\u001b[39m \u001b[36mMinus\u001b[39m\n",
       "defined \u001b[32mclass\u001b[39m \u001b[36mMult\u001b[39m\n",
       "defined \u001b[32mclass\u001b[39m \u001b[36mPow\u001b[39m\n",
       "defined \u001b[32mclass\u001b[39m \u001b[36mNeg\u001b[39m\n",
       "defined \u001b[32mclass\u001b[39m \u001b[36mEq\u001b[39m\n",
       "defined \u001b[32mclass\u001b[39m \u001b[36mAnd\u001b[39m\n",
       "defined \u001b[32mclass\u001b[39m \u001b[36mOr\u001b[39m\n",
       "defined \u001b[32mclass\u001b[39m \u001b[36mIfThenElse\u001b[39m\n",
       "defined \u001b[32mclass\u001b[39m \u001b[36mLet\u001b[39m"
      ]
     },
     "execution_count": 13,
     "metadata": {},
     "output_type": "execute_result"
    }
   ],
   "source": [
    "sealed trait Expr\n",
    "case class Const(i: Integer) extends Expr\n",
    "case class Bin(b: Bool) extends Expr\n",
    "case class Ident(s: String) extends Expr\n",
    "case class Plus(e1: Expr, e2: Expr) extends Expr\n",
    "case class Minus(e1: Expr, e2: Expr) extends Expr\n",
    "case class Mult(e1: Expr, e2: Expr) extends Expr\n",
    "case class Pow(e1: Expr, e2: Expr) extends Expr\n",
    "case class Neg(e1: Expr) extends Expr\n",
    "case class Eq(e1: Expr, e2: Expr) extends Expr\n",
    "case class And(e1: Expr, e2: Expr) extends Expr\n",
    "case class Or(e1: Expr, e2: Expr) extends Expr\n",
    "case class IfThenElse(e1: Expr, e2: Expr, e3: Expr) extends Expr\n",
    "case class Let(s: String, e1: Expr, e2: Expr) extends Expr"
   ]
  },
  {
   "cell_type": "markdown",
   "metadata": {},
   "source": [
    "If you defined `Expr` properly then the following expressions should compile:"
   ]
  },
  {
   "cell_type": "code",
   "execution_count": 14,
   "metadata": {},
   "outputs": [
    {
     "name": "stdout",
     "output_type": "stream",
     "text": [
      "\n",
      "*** Tests Passed (5 points) ***\n"
     ]
    },
    {
     "data": {
      "text/plain": [
       "\u001b[36mex1\u001b[39m: \u001b[32mConst\u001b[39m = \u001b[33mConst\u001b[39m(\n",
       "  i = \u001b[33mPositive\u001b[39m(\n",
       "    x = \u001b[33mSucc\u001b[39m(pred = \u001b[33mSucc\u001b[39m(pred = \u001b[33mSucc\u001b[39m(pred = \u001b[33mSucc\u001b[39m(pred = \u001b[33mSucc\u001b[39m(pred = Zero)))))\n",
       "  )\n",
       ")\n",
       "\u001b[36mex2\u001b[39m: \u001b[32mConst\u001b[39m = \u001b[33mConst\u001b[39m(\n",
       "  i = \u001b[33mNegative\u001b[39m(x = \u001b[33mSucc\u001b[39m(pred = \u001b[33mSucc\u001b[39m(pred = \u001b[33mSucc\u001b[39m(pred = Zero))))\n",
       ")\n",
       "\u001b[36mex3\u001b[39m: \u001b[32mBin\u001b[39m = \u001b[33mBin\u001b[39m(b = True)\n",
       "\u001b[36mex4\u001b[39m: \u001b[32mIdent\u001b[39m = \u001b[33mIdent\u001b[39m(s = \u001b[32m\"x\"\u001b[39m)"
      ]
     },
     "execution_count": 14,
     "metadata": {},
     "output_type": "execute_result"
    }
   ],
   "source": [
    "val ex1 = Const(Positive(five))\n",
    "val ex2 = Const(Negative(three))\n",
    "val ex3 = Bin(True)\n",
    "val ex4 = Ident(\"x\")\n",
    "passed(5)"
   ]
  },
  {
   "cell_type": "code",
   "execution_count": 15,
   "metadata": {
    "scrolled": true
   },
   "outputs": [
    {
     "name": "stdout",
     "output_type": "stream",
     "text": [
      "\n",
      "*** Tests Passed (5 points) ***\n"
     ]
    },
    {
     "data": {
      "text/plain": [
       "\u001b[36mex5\u001b[39m: \u001b[32mPlus\u001b[39m = \u001b[33mPlus\u001b[39m(\n",
       "  e1 = \u001b[33mConst\u001b[39m(\n",
       "    i = \u001b[33mPositive\u001b[39m(\n",
       "      x = \u001b[33mSucc\u001b[39m(pred = \u001b[33mSucc\u001b[39m(pred = \u001b[33mSucc\u001b[39m(pred = \u001b[33mSucc\u001b[39m(pred = \u001b[33mSucc\u001b[39m(pred = Zero)))))\n",
       "    )\n",
       "  ),\n",
       "  e2 = \u001b[33mConst\u001b[39m(i = \u001b[33mNegative\u001b[39m(x = \u001b[33mSucc\u001b[39m(pred = \u001b[33mSucc\u001b[39m(pred = \u001b[33mSucc\u001b[39m(pred = Zero)))))\n",
       ")\n",
       "\u001b[36mex6\u001b[39m: \u001b[32mLet\u001b[39m = \u001b[33mLet\u001b[39m(\n",
       "  s = \u001b[32m\"x\"\u001b[39m,\n",
       "  e1 = \u001b[33mPlus\u001b[39m(\n",
       "    e1 = \u001b[33mConst\u001b[39m(\n",
       "      i = \u001b[33mPositive\u001b[39m(\n",
       "        x = \u001b[33mSucc\u001b[39m(\n",
       "          pred = \u001b[33mSucc\u001b[39m(pred = \u001b[33mSucc\u001b[39m(pred = \u001b[33mSucc\u001b[39m(pred = \u001b[33mSucc\u001b[39m(pred = Zero))))\n",
       "        )\n",
       "      )\n",
       "    ),\n",
       "    e2 = \u001b[33mConst\u001b[39m(i = \u001b[33mNegative\u001b[39m(x = \u001b[33mSucc\u001b[39m(pred = \u001b[33mSucc\u001b[39m(pred = \u001b[33mSucc\u001b[39m(pred = Zero)))))\n",
       "  ),\n",
       "  e2 = \u001b[33mMult\u001b[39m(e1 = \u001b[33mIdent\u001b[39m(s = \u001b[32m\"x\"\u001b[39m), e2 = \u001b[33mIdent\u001b[39m(s = \u001b[32m\"x\"\u001b[39m))\n",
       ")"
      ]
     },
     "execution_count": 15,
     "metadata": {},
     "output_type": "execute_result"
    }
   ],
   "source": [
    "val ex5 = Plus(ex1, ex2)\n",
    "val ex6 = Let(\"x\", ex5, Mult(ex4, ex4))\n",
    "passed(5)"
   ]
  },
  {
   "cell_type": "code",
   "execution_count": 16,
   "metadata": {},
   "outputs": [
    {
     "data": {
      "text/plain": [
       "defined \u001b[32mfunction\u001b[39m \u001b[36mmaybe_pow\u001b[39m\n",
       "defined \u001b[32mfunction\u001b[39m \u001b[36mmaybeify_bin\u001b[39m\n",
       "defined \u001b[32mfunction\u001b[39m \u001b[36meval_bin\u001b[39m"
      ]
     },
     "execution_count": 16,
     "metadata": {},
     "output_type": "execute_result"
    }
   ],
   "source": [
    "def maybe_pow(x: Integer, y: Integer): Maybe[Integer]  = y match {\n",
    "    case Positive(y) => Just(pow(x, y))\n",
    "    case Negative(y) => None\n",
    "}\n",
    "def maybeify_bin = (f: (Integer, Integer) => Integer) => (x: Integer, y: Integer) => Just(f(x, y))\n",
    "def eval_bin(bin_func: (Integer, Integer) => Maybe[Integer], x: Value, y: Value): Value = \n",
    "    (x, y) match {\n",
    "        case (_, Error) => Error\n",
    "        case (Error, _) => Error\n",
    "        case (NumVal(x), NumVal(y)) => bin_func(x, y) match {\n",
    "            case Just(result) => NumVal(result)\n",
    "            case None => Error\n",
    "            case _ => Error\n",
    "        }\n",
    "        case _ => Error\n",
    "    }"
   ]
  },
  {
   "cell_type": "code",
   "execution_count": 17,
   "metadata": {},
   "outputs": [
    {
     "data": {
      "text/plain": [
       "defined \u001b[32mfunction\u001b[39m \u001b[36meval\u001b[39m"
      ]
     },
     "execution_count": 17,
     "metadata": {},
     "output_type": "execute_result"
    }
   ],
   "source": [
    "def eval[A](locals: Dictionary[String,A], e: Expr): Value = e match {\n",
    "    case Const(i) => i match {\n",
    "        case i: Integer => NumVal(i)\n",
    "        case _ => Error\n",
    "    }\n",
    "    case Bin(b) => b match {\n",
    "        case b: Bool => BinVal(b)\n",
    "        case _ => Error\n",
    "    } \n",
    "    case Ident(s) => lookup(string_eq, locals, s) match {\n",
    "        case Just(x) => x match {\n",
    "            case x: Expr => eval(locals, x) // Keep evaluating until it's resolved to a Value\n",
    "            case x: Value => x\n",
    "            case _ => Error\n",
    "        }\n",
    "        case None => Error\n",
    "        case _ => Error\n",
    "    }\n",
    "    case Plus(e1, e2) => eval_bin(maybeify_bin(plus), eval(locals, e1), eval(locals, e2)) \n",
    "    case Minus(e1, e2) => eval_bin(maybeify_bin(minus), eval(locals, e1), eval(locals, e2))\n",
    "    case Mult(e1, e2) => eval_bin(maybeify_bin(mult), eval(locals, e1), eval(locals, e2))\n",
    "    case Pow(e1, e2) => eval_bin(maybe_pow, eval(locals, e1), eval(locals, e2))\n",
    "    case Let(s, e1, e2) => eval(locals, e1) match {\n",
    "        case Error => Error\n",
    "        case v1: Value => eval(Entry(s, e1, locals), e2) \n",
    "        case _ => Error\n",
    "    }\n",
    "    case Neg(e1) => eval(locals, e1) match {\n",
    "        case Error => Error\n",
    "        case NumVal(v1) => NumVal(negate(v1))\n",
    "        case _ => Error\n",
    "    }\n",
    "    case Eq(e1, e2) => (eval(locals, e1), eval(locals, e2)) match {\n",
    "        case (Error, _) => Error\n",
    "        case (_, Error) => Error\n",
    "        case (NumVal(v1), NumVal(v2)) => BinVal(int_eq(v1, v2))\n",
    "        case (BinVal(v1), BinVal(v2)) => BinVal(bool_eq(v1, v2))\n",
    "        case (_, _) => Error\n",
    "    }\n",
    "    case And(e1, e2) => (eval(locals, e1), eval(locals, e2)) match {\n",
    "        case (Error, _) => Error\n",
    "        case (_, Error) => Error\n",
    "        case (BinVal(v1), BinVal(v2)) => BinVal(and(v1, v2))\n",
    "        case (_, _) => Error\n",
    "    }\n",
    "    case Or(e1, e2) => (eval(locals, e1), eval(locals, e2)) match {\n",
    "        case (Error, _) => Error\n",
    "        case (_, Error) => Error\n",
    "        case (BinVal(v1), BinVal(v2)) => BinVal(or(v1, v2))\n",
    "        case (_, _) => Error\n",
    "    }\n",
    "    case IfThenElse(e1, e2, e3) => eval(locals, e1) match {\n",
    "        case Error => Error\n",
    "        case BinVal(predicate) => predicate match {\n",
    "            case True => eval(locals, e2)\n",
    "            case False => eval(locals, e3)\n",
    "        }\n",
    "        case _ => Error\n",
    "    }\n",
    "}"
   ]
  },
  {
   "cell_type": "markdown",
   "metadata": {},
   "source": [
    "## Problem 3 - The Interpreter (30 pts)\n",
    "\n",
    "We now need to define the interpreter for this language. It is a function of the form:\n",
    "\n",
    "$$\n",
    "eval : Expr \\rightarrow Value\n",
    "$$\n",
    "\n",
    "Except now that we have an execution environment($\\sigma$) we need some way to include sigma in this function. This will be as an additional argument:\n",
    "\n",
    "$$\n",
    "eval : \\sigma \\rightarrow Expr \\rightarrow Value\n",
    "$$\n",
    "\n",
    "We will let $\\sigma$ be a `Dictionary` as we defined in last week's homework. To add something to a dicitonary use the `Entry` constructor to add on a new element. This should be very similiar to the way `Cons` works on lists.\n",
    "\n",
    "Below we have given you the skeleton of the function `eval`. Fill in each case for the interpreter so that it can interpret all possible Lettuce expressions. The inference rules we covered in the classroom should be very helpful with this.\n",
    "\n",
    "Hint: It may be helpful to define some helper functions for the inference rules that have similar forms. These are the rules like binary operations for arithmetic, bool, etc. Just like we lumped some of these rules together into a single rule, we can do the same for our interpreter in the form of auxillary functions. The bonus `eval_bin` function from Homework 4 may be a good place for inspiration.\n",
    "\n",
    "Hint: Be ready to write some nested case matches. Most of your cases should have two nestings. One for the Sytnax element and another for evaluating the expressions it may contain. This is not true for all expressions but most will "
   ]
  },
  {
   "cell_type": "markdown",
   "metadata": {},
   "source": [
    "If this was defined correctly then the definitions above should evaluate:"
   ]
  },
  {
   "cell_type": "code",
   "execution_count": 18,
   "metadata": {},
   "outputs": [
    {
     "data": {
      "text/plain": [
       "\u001b[36mex1\u001b[39m: \u001b[32mConst\u001b[39m = \u001b[33mConst\u001b[39m(\n",
       "  i = \u001b[33mPositive\u001b[39m(\n",
       "    x = \u001b[33mSucc\u001b[39m(pred = \u001b[33mSucc\u001b[39m(pred = \u001b[33mSucc\u001b[39m(pred = \u001b[33mSucc\u001b[39m(pred = \u001b[33mSucc\u001b[39m(pred = Zero)))))\n",
       "  )\n",
       ")\n",
       "\u001b[36mex2\u001b[39m: \u001b[32mConst\u001b[39m = \u001b[33mConst\u001b[39m(\n",
       "  i = \u001b[33mNegative\u001b[39m(x = \u001b[33mSucc\u001b[39m(pred = \u001b[33mSucc\u001b[39m(pred = \u001b[33mSucc\u001b[39m(pred = Zero))))\n",
       ")\n",
       "\u001b[36mex3\u001b[39m: \u001b[32mBin\u001b[39m = \u001b[33mBin\u001b[39m(b = True)\n",
       "\u001b[36mex4\u001b[39m: \u001b[32mIdent\u001b[39m = \u001b[33mIdent\u001b[39m(s = \u001b[32m\"x\"\u001b[39m)\n",
       "\u001b[36mex5\u001b[39m: \u001b[32mPlus\u001b[39m = \u001b[33mPlus\u001b[39m(\n",
       "  e1 = \u001b[33mConst\u001b[39m(\n",
       "    i = \u001b[33mPositive\u001b[39m(\n",
       "      x = \u001b[33mSucc\u001b[39m(pred = \u001b[33mSucc\u001b[39m(pred = \u001b[33mSucc\u001b[39m(pred = \u001b[33mSucc\u001b[39m(pred = \u001b[33mSucc\u001b[39m(pred = Zero)))))\n",
       "    )\n",
       "  ),\n",
       "  e2 = \u001b[33mConst\u001b[39m(i = \u001b[33mNegative\u001b[39m(x = \u001b[33mSucc\u001b[39m(pred = \u001b[33mSucc\u001b[39m(pred = \u001b[33mSucc\u001b[39m(pred = Zero)))))\n",
       ")\n",
       "\u001b[36mex6\u001b[39m: \u001b[32mLet\u001b[39m = \u001b[33mLet\u001b[39m(\n",
       "  s = \u001b[32m\"x\"\u001b[39m,\n",
       "  e1 = \u001b[33mPlus\u001b[39m(\n",
       "    e1 = \u001b[33mConst\u001b[39m(\n",
       "      i = \u001b[33mPositive\u001b[39m(\n",
       "        x = \u001b[33mSucc\u001b[39m(\n",
       "          pred = \u001b[33mSucc\u001b[39m(pred = \u001b[33mSucc\u001b[39m(pred = \u001b[33mSucc\u001b[39m(pred = \u001b[33mSucc\u001b[39m(pred = Zero))))\n",
       "        )\n",
       "      )\n",
       "    ),\n",
       "    e2 = \u001b[33mConst\u001b[39m(i = \u001b[33mNegative\u001b[39m(x = \u001b[33mSucc\u001b[39m(pred = \u001b[33mSucc\u001b[39m(pred = \u001b[33mSucc\u001b[39m(pred = Zero)))))\n",
       "  ),\n",
       "  e2 = \u001b[33mMult\u001b[39m(e1 = \u001b[33mIdent\u001b[39m(s = \u001b[32m\"x\"\u001b[39m), e2 = \u001b[33mIdent\u001b[39m(s = \u001b[32m\"x\"\u001b[39m))\n",
       ")"
      ]
     },
     "execution_count": 18,
     "metadata": {},
     "output_type": "execute_result"
    }
   ],
   "source": [
    "val ex1 = Const(Positive(five))\n",
    "val ex2 = Const(Negative(three))\n",
    "val ex3 = Bin(True)\n",
    "val ex4 = Ident(\"x\")\n",
    "val ex5 = Plus(ex1, ex2)\n",
    "val ex6 = Let(\"x\", ex5, Mult(ex4, ex4))"
   ]
  },
  {
   "cell_type": "code",
   "execution_count": 19,
   "metadata": {},
   "outputs": [
    {
     "name": "stdout",
     "output_type": "stream",
     "text": [
      "\n",
      "*** Tests Passed (10 points) ***\n"
     ]
    },
    {
     "data": {
      "text/plain": [
       "\u001b[36mres18_0\u001b[39m: \u001b[32mValue\u001b[39m = \u001b[33mBinVal\u001b[39m(b = True)"
      ]
     },
     "execution_count": 19,
     "metadata": {},
     "output_type": "execute_result"
    }
   ],
   "source": [
    "// assert(\n",
    "eval(EmptyDict, ex3) \n",
    "// == BinVal(True))\n",
    "passed(10)"
   ]
  },
  {
   "cell_type": "code",
   "execution_count": 20,
   "metadata": {},
   "outputs": [
    {
     "name": "stdout",
     "output_type": "stream",
     "text": [
      "\n",
      "*** Tests Passed (10 points) ***\n"
     ]
    }
   ],
   "source": [
    "assert(eval(EmptyDict, ex4) == Error)\n",
    "passed(10)"
   ]
  },
  {
   "cell_type": "code",
   "execution_count": 21,
   "metadata": {},
   "outputs": [],
   "source": [
    "assert(eval(EmptyDict, ex5) == NumVal(Positive(two)))"
   ]
  },
  {
   "cell_type": "code",
   "execution_count": 22,
   "metadata": {
    "scrolled": true
   },
   "outputs": [
    {
     "name": "stdout",
     "output_type": "stream",
     "text": [
      "\n",
      "*** Tests Passed (10 points) ***\n"
     ]
    }
   ],
   "source": [
    "assert(eval(EmptyDict, ex6) == NumVal(Positive(four)))\n",
    "passed(10)"
   ]
  },
  {
   "cell_type": "code",
   "execution_count": 23,
   "metadata": {},
   "outputs": [],
   "source": [
    "assert(eval(EmptyDict, Neg(Const(Positive(six)))) == NumVal(Negative(six)))"
   ]
  },
  {
   "cell_type": "code",
   "execution_count": 24,
   "metadata": {},
   "outputs": [],
   "source": [
    "assert(eval(EmptyDict, Eq(Const(Positive(six)), Const(Positive(five)))) == BinVal(False))\n",
    "assert(eval(EmptyDict, Eq(Const(Positive(six)), Const(Positive(six)))) == BinVal(True))\n",
    "assert(eval(EmptyDict, Eq(Bin(True), Bin(True))) == BinVal(True))\n",
    "assert(eval(EmptyDict, Eq(Bin(False), Bin(True))) == BinVal(False))"
   ]
  },
  {
   "cell_type": "code",
   "execution_count": 25,
   "metadata": {},
   "outputs": [],
   "source": [
    "assert(eval(EmptyDict, And(Bin(True), Bin(False))) == BinVal(False))\n",
    "assert(eval(EmptyDict, And(Bin(False), Bin(False))) == BinVal(False))\n",
    "assert(eval(EmptyDict, And(Bin(True), Bin(True))) == BinVal(True))\n",
    "assert(eval(EmptyDict, And(Const(Positive(one)), Const(Positive(one)))) == Error)"
   ]
  },
  {
   "cell_type": "code",
   "execution_count": 26,
   "metadata": {},
   "outputs": [],
   "source": [
    "assert(eval(EmptyDict, Or(Bin(True), Bin(False))) == BinVal(True))\n",
    "assert(eval(EmptyDict, Or(Bin(False), Bin(False))) == BinVal(False))\n",
    "assert(eval(EmptyDict, Or(Bin(True), Bin(True))) == BinVal(True))\n",
    "assert(eval(EmptyDict, And(Const(Positive(one)), Bin(False))) == Error)"
   ]
  },
  {
   "cell_type": "code",
   "execution_count": 27,
   "metadata": {},
   "outputs": [],
   "source": [
    "assert(eval(EmptyDict, IfThenElse(Bin(True), Const(Positive(one)), Const(Negative(one)))) == NumVal(Positive(one)))\n",
    "assert(eval(EmptyDict, IfThenElse(Bin(False), Const(Positive(one)), Const(Negative(one)))) == NumVal(Negative(one)))\n",
    "assert(eval(EmptyDict, IfThenElse(Eq(Bin(False), \n",
    "                                     Eq(Const(Positive(two)), Const(Positive(two)))), \n",
    "                                     Const(Positive(one)), Const(Negative(one)))) == NumVal(Negative(one)))\n",
    "assert(eval(EmptyDict, IfThenElse(Bin(False), Const(Positive(one)), Const(Negative(one)))) == NumVal(Negative(one)))"
   ]
  }
 ],
 "metadata": {
  "kernelspec": {
   "display_name": "Scala",
   "language": "scala",
   "name": "scala"
  },
  "language_info": {
   "codemirror_mode": "text/x-scala",
   "file_extension": ".sc",
   "mimetype": "text/x-scala",
   "name": "scala",
   "nbconvert_exporter": "script",
   "version": "2.13.5"
  }
 },
 "nbformat": 4,
 "nbformat_minor": 2
}
